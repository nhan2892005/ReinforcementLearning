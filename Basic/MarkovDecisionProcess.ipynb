{
 "cells": [
  {
   "cell_type": "markdown",
   "metadata": {},
   "source": [
    "# Problem\n",
    "You're going out, need umbrella or not?\n",
    "\n",
    "- State: Rainy, Sunny, Cloudy\n",
    "- Action: Take Umbrella, Don't Take Umbrella\n",
    "- Reward: -10 if you get wet, +10 if you stay dry\n",
    "            -5 if you take umbrella, +5 if you don't take umbrella\n",
    "- Transition: 0.9 chance of staying in the same state, 0.1 chance of transitioning to another state\n",
    "- Discount Factor: 0.9\n"
   ]
  },
  {
   "cell_type": "code",
   "execution_count": 65,
   "metadata": {},
   "outputs": [],
   "source": [
    "import numpy as np\n",
    "import matplotlib.pyplot as plt"
   ]
  },
  {
   "cell_type": "markdown",
   "metadata": {},
   "source": [
    "## Initialize Attributes and Policy"
   ]
  },
  {
   "cell_type": "code",
   "execution_count": 66,
   "metadata": {},
   "outputs": [],
   "source": [
    "state = [[1, 0, 0], # Rainy\n",
    "         [0, 1, 0], # Cloudy\n",
    "         [0, 0, 1]] # Sunny\n",
    "\n",
    "state = np.array(state)\n",
    "\n",
    "state_name = ['Rainy', 'Cloudy', 'Sunny']\n",
    "action = ['Take umbrella', 'Do not take umbrella']\n",
    "\n",
    "action = np.array(action)\n",
    "\n",
    "reward = [[1, 0, 0, 1, -1], # Rainy and take umbrella\n",
    "          [0, 1, 0, 1, -1], # Cloudy and take umbrella\n",
    "          [0, 0, 1, 1, -5], # Sunny and take umbrella\n",
    "          [1, 0, 0, 1, -5], # Rainy and don't take umbrella\n",
    "          [0, 1, 0, 1, -1], # Cloudy and don't take umbrella\n",
    "          [0, 0, 1, 1, -1]] # Sunny and don't take umbrella\n",
    "\n",
    "reward = np.array(reward)\n",
    "\n",
    "                    #   Rainy   Cloudy Sunny\n",
    "transition =            [[0.7,   0.3,   0], # Rainy\n",
    "                        [0.4,   0.4,   0.2], # Cloudy\n",
    "                        [0.1,   0.3,   0.6], # Sunny\n",
    "\n",
    "                        [0.3,   0.4,   0.3], # Rainy\n",
    "                        [0,     0.7,   0.3], # Cloudy\n",
    "                        [0,     0.4,   0.6]] # Sunny\n",
    "\n",
    "discount = 0.9\n",
    "epsilon = 0.01\n"
   ]
  },
  {
   "cell_type": "code",
   "execution_count": 67,
   "metadata": {},
   "outputs": [],
   "source": [
    "def value_determine(state, action, reward, transition, discount, epsilon):\n",
    "    value = np.zeros(len(state))\n",
    "    while True:\n",
    "        new_value = np.zeros(len(state))\n",
    "        for i in range(len(state)):\n",
    "            for j in range(len(action)):\n",
    "                reward_state  = j * len(state) + i\n",
    "                new_value[i] = reward[reward_state][-1] + discount * np.sum(transition[reward_state] * value)\n",
    "        if np.max(np.abs(value - new_value)) < epsilon:\n",
    "            break\n",
    "        value = new_value\n",
    "    return value"
   ]
  },
  {
   "cell_type": "code",
   "execution_count": 68,
   "metadata": {},
   "outputs": [
    {
     "name": "stdout",
     "output_type": "stream",
     "text": [
      "[-15.38247468  -9.90302263  -9.90302263]\n"
     ]
    }
   ],
   "source": [
    "model = value_determine(state, action, reward, transition, discount, epsilon)\n",
    "print(model)"
   ]
  },
  {
   "cell_type": "code",
   "execution_count": 69,
   "metadata": {},
   "outputs": [
    {
     "name": "stdout",
     "output_type": "stream",
     "text": [
      "In state Rainy the optimal policy is to Take umbrella\n",
      "In state Cloudy the optimal policy is to Do not take umbrella\n",
      "In state Sunny the optimal policy is to Do not take umbrella\n"
     ]
    }
   ],
   "source": [
    "# optimal policy\n",
    "policy = {}\n",
    "for i in range(len(state)):\n",
    "    policy[i] = np.argmax([reward[j * len(state) + i][-1] + discount * np.sum(transition[j * len(state) + i] * model) for j in range(len(action))])\n",
    "\n",
    "for i in range(len(policy)):\n",
    "    print('In state', state_name[i], 'the optimal policy is to', action[policy[i]])"
   ]
  },
  {
   "cell_type": "code",
   "execution_count": 70,
   "metadata": {},
   "outputs": [
    {
     "data": {
      "image/png": "[encoded data removed]",
      "text/plain": [
       "<Figure size 640x480 with 1 Axes>"
      ]
     },
     "metadata": {},
     "output_type": "display_data"
    }
   ],
   "source": [
    "# Plotting\n",
    "plt.bar(state_name, model)\n",
    "plt.ylabel('Value')\n",
    "plt.xlabel('State')\n",
    "plt.title('Value of each state')\n",
    "plt.show()\n"
   ]
  }
 ],
 "metadata": {
  "kernelspec": {
   "display_name": "Python 3",
   "language": "python",
   "name": "python3"
  },
  "language_info": {
   "codemirror_mode": {
    "name": "ipython",
    "version": 3
   },
   "file_extension": ".py",
   "mimetype": "text/x-python",
   "name": "python",
   "nbconvert_exporter": "python",
   "pygments_lexer": "ipython3",
   "version": "3.12.1"
  }
 },
 "nbformat": 4,
 "nbformat_minor": 2
}
